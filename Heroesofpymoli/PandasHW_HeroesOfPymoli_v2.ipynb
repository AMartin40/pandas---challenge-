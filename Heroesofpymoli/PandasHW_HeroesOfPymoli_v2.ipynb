{
 "cells": [
  {
   "cell_type": "code",
   "execution_count": 1,
   "metadata": {},
   "outputs": [],
   "source": [
    "# Dependency \n",
    "import pandas as pd\n",
    "import json\n",
    "import numpy as np\n",
    "from IPython.display import display"
   ]
  },
  {
   "cell_type": "code",
   "execution_count": 2,
   "metadata": {},
   "outputs": [
    {
     "data": {
      "application/javascript": [
       "\n",
       "            setTimeout(function() {\n",
       "                var nbb_cell_id = 2;\n",
       "                var nbb_unformatted_code = \"# Pip Install nb_black\\n%load_ext nb_black\";\n",
       "                var nbb_formatted_code = \"# Pip Install nb_black\\n%load_ext nb_black\";\n",
       "                var nbb_cells = Jupyter.notebook.get_cells();\n",
       "                for (var i = 0; i < nbb_cells.length; ++i) {\n",
       "                    if (nbb_cells[i].input_prompt_number == nbb_cell_id) {\n",
       "                        if (nbb_cells[i].get_text() == nbb_unformatted_code) {\n",
       "                             nbb_cells[i].set_text(nbb_formatted_code);\n",
       "                        }\n",
       "                        break;\n",
       "                    }\n",
       "                }\n",
       "            }, 500);\n",
       "            "
      ],
      "text/plain": [
       "<IPython.core.display.Javascript object>"
      ]
     },
     "metadata": {},
     "output_type": "display_data"
    }
   ],
   "source": [
    "# Pip Install nb_black\n",
    "%load_ext nb_black"
   ]
  },
  {
   "cell_type": "code",
   "execution_count": 3,
   "metadata": {},
   "outputs": [
    {
     "data": {
      "application/javascript": [
       "\n",
       "            setTimeout(function() {\n",
       "                var nbb_cell_id = 3;\n",
       "                var nbb_unformatted_code = \"# Store file path\\npurchasefile_ = \\\"Resources/purchase_data.csv\\\"\";\n",
       "                var nbb_formatted_code = \"# Store file path\\npurchasefile_ = \\\"Resources/purchase_data.csv\\\"\";\n",
       "                var nbb_cells = Jupyter.notebook.get_cells();\n",
       "                for (var i = 0; i < nbb_cells.length; ++i) {\n",
       "                    if (nbb_cells[i].input_prompt_number == nbb_cell_id) {\n",
       "                        if (nbb_cells[i].get_text() == nbb_unformatted_code) {\n",
       "                             nbb_cells[i].set_text(nbb_formatted_code);\n",
       "                        }\n",
       "                        break;\n",
       "                    }\n",
       "                }\n",
       "            }, 500);\n",
       "            "
      ],
      "text/plain": [
       "<IPython.core.display.Javascript object>"
      ]
     },
     "metadata": {},
     "output_type": "display_data"
    }
   ],
   "source": [
    "# Store file path\n",
    "purchasefile_ = \"Resources/purchase_data.csv\""
   ]
  },
  {
   "cell_type": "markdown",
   "metadata": {},
   "source": [
    "# Data Frame "
   ]
  },
  {
   "cell_type": "code",
   "execution_count": 4,
   "metadata": {},
   "outputs": [
    {
     "data": {
      "text/html": [
       "<div>\n",
       "<style scoped>\n",
       "    .dataframe tbody tr th:only-of-type {\n",
       "        vertical-align: middle;\n",
       "    }\n",
       "\n",
       "    .dataframe tbody tr th {\n",
       "        vertical-align: top;\n",
       "    }\n",
       "\n",
       "    .dataframe thead th {\n",
       "        text-align: right;\n",
       "    }\n",
       "</style>\n",
       "<table border=\"1\" class=\"dataframe\">\n",
       "  <thead>\n",
       "    <tr style=\"text-align: right;\">\n",
       "      <th></th>\n",
       "      <th>Purchase ID</th>\n",
       "      <th>SN</th>\n",
       "      <th>Age</th>\n",
       "      <th>Gender</th>\n",
       "      <th>Item ID</th>\n",
       "      <th>Item Name</th>\n",
       "      <th>Price</th>\n",
       "    </tr>\n",
       "  </thead>\n",
       "  <tbody>\n",
       "    <tr>\n",
       "      <td>0</td>\n",
       "      <td>0</td>\n",
       "      <td>Lisim78</td>\n",
       "      <td>20</td>\n",
       "      <td>Male</td>\n",
       "      <td>108</td>\n",
       "      <td>Extraction, Quickblade Of Trembling Hands</td>\n",
       "      <td>3.53</td>\n",
       "    </tr>\n",
       "    <tr>\n",
       "      <td>1</td>\n",
       "      <td>1</td>\n",
       "      <td>Lisovynya38</td>\n",
       "      <td>40</td>\n",
       "      <td>Male</td>\n",
       "      <td>143</td>\n",
       "      <td>Frenzied Scimitar</td>\n",
       "      <td>1.56</td>\n",
       "    </tr>\n",
       "    <tr>\n",
       "      <td>2</td>\n",
       "      <td>2</td>\n",
       "      <td>Ithergue48</td>\n",
       "      <td>24</td>\n",
       "      <td>Male</td>\n",
       "      <td>92</td>\n",
       "      <td>Final Critic</td>\n",
       "      <td>4.88</td>\n",
       "    </tr>\n",
       "    <tr>\n",
       "      <td>3</td>\n",
       "      <td>3</td>\n",
       "      <td>Chamassasya86</td>\n",
       "      <td>24</td>\n",
       "      <td>Male</td>\n",
       "      <td>100</td>\n",
       "      <td>Blindscythe</td>\n",
       "      <td>3.27</td>\n",
       "    </tr>\n",
       "    <tr>\n",
       "      <td>4</td>\n",
       "      <td>4</td>\n",
       "      <td>Iskosia90</td>\n",
       "      <td>23</td>\n",
       "      <td>Male</td>\n",
       "      <td>131</td>\n",
       "      <td>Fury</td>\n",
       "      <td>1.44</td>\n",
       "    </tr>\n",
       "  </tbody>\n",
       "</table>\n",
       "</div>"
      ],
      "text/plain": [
       "   Purchase ID             SN  Age Gender  Item ID  \\\n",
       "0            0        Lisim78   20   Male      108   \n",
       "1            1    Lisovynya38   40   Male      143   \n",
       "2            2     Ithergue48   24   Male       92   \n",
       "3            3  Chamassasya86   24   Male      100   \n",
       "4            4      Iskosia90   23   Male      131   \n",
       "\n",
       "                                   Item Name  Price  \n",
       "0  Extraction, Quickblade Of Trembling Hands   3.53  \n",
       "1                          Frenzied Scimitar   1.56  \n",
       "2                               Final Critic   4.88  \n",
       "3                                Blindscythe   3.27  \n",
       "4                                       Fury   1.44  "
      ]
     },
     "execution_count": 4,
     "metadata": {},
     "output_type": "execute_result"
    },
    {
     "data": {
      "application/javascript": [
       "\n",
       "            setTimeout(function() {\n",
       "                var nbb_cell_id = 4;\n",
       "                var nbb_unformatted_code = \"# Read data file with pandas\\npurchasefile_df = pd.read_csv(\\\"purchase_data.csv\\\")\\n\\npurchasefile_df.head()\";\n",
       "                var nbb_formatted_code = \"# Read data file with pandas\\npurchasefile_df = pd.read_csv(\\\"purchase_data.csv\\\")\\n\\npurchasefile_df.head()\";\n",
       "                var nbb_cells = Jupyter.notebook.get_cells();\n",
       "                for (var i = 0; i < nbb_cells.length; ++i) {\n",
       "                    if (nbb_cells[i].input_prompt_number == nbb_cell_id) {\n",
       "                        if (nbb_cells[i].get_text() == nbb_unformatted_code) {\n",
       "                             nbb_cells[i].set_text(nbb_formatted_code);\n",
       "                        }\n",
       "                        break;\n",
       "                    }\n",
       "                }\n",
       "            }, 500);\n",
       "            "
      ],
      "text/plain": [
       "<IPython.core.display.Javascript object>"
      ]
     },
     "metadata": {},
     "output_type": "display_data"
    }
   ],
   "source": [
    "# Read data file with pandas\n",
    "purchasefile_df = pd.read_csv(\"purchase_data.csv\")\n",
    "\n",
    "purchasefile_df.head()"
   ]
  },
  {
   "cell_type": "markdown",
   "metadata": {},
   "source": [
    "# Player Count \n",
    "* Total number of players "
   ]
  },
  {
   "cell_type": "code",
   "execution_count": 5,
   "metadata": {},
   "outputs": [
    {
     "data": {
      "text/html": [
       "<div>\n",
       "<style scoped>\n",
       "    .dataframe tbody tr th:only-of-type {\n",
       "        vertical-align: middle;\n",
       "    }\n",
       "\n",
       "    .dataframe tbody tr th {\n",
       "        vertical-align: top;\n",
       "    }\n",
       "\n",
       "    .dataframe thead th {\n",
       "        text-align: right;\n",
       "    }\n",
       "</style>\n",
       "<table border=\"1\" class=\"dataframe\">\n",
       "  <thead>\n",
       "    <tr style=\"text-align: right;\">\n",
       "      <th></th>\n",
       "      <th>Total Players</th>\n",
       "    </tr>\n",
       "  </thead>\n",
       "  <tbody>\n",
       "    <tr>\n",
       "      <td>0</td>\n",
       "      <td>780</td>\n",
       "    </tr>\n",
       "  </tbody>\n",
       "</table>\n",
       "</div>"
      ],
      "text/plain": [
       "   Total Players\n",
       "0            780"
      ]
     },
     "execution_count": 5,
     "metadata": {},
     "output_type": "execute_result"
    },
    {
     "data": {
      "application/javascript": [
       "\n",
       "            setTimeout(function() {\n",
       "                var nbb_cell_id = 5;\n",
       "                var nbb_unformatted_code = \"total_players = purchasefile_df[\\\"SN\\\"].count()\\n\\nplayers = pd.DataFrame({\\\"Total Players\\\": [total_players]})\\nplayers\";\n",
       "                var nbb_formatted_code = \"total_players = purchasefile_df[\\\"SN\\\"].count()\\n\\nplayers = pd.DataFrame({\\\"Total Players\\\": [total_players]})\\nplayers\";\n",
       "                var nbb_cells = Jupyter.notebook.get_cells();\n",
       "                for (var i = 0; i < nbb_cells.length; ++i) {\n",
       "                    if (nbb_cells[i].input_prompt_number == nbb_cell_id) {\n",
       "                        if (nbb_cells[i].get_text() == nbb_unformatted_code) {\n",
       "                             nbb_cells[i].set_text(nbb_formatted_code);\n",
       "                        }\n",
       "                        break;\n",
       "                    }\n",
       "                }\n",
       "            }, 500);\n",
       "            "
      ],
      "text/plain": [
       "<IPython.core.display.Javascript object>"
      ]
     },
     "metadata": {},
     "output_type": "display_data"
    }
   ],
   "source": [
    "total_players = purchasefile_df[\"SN\"].count()\n",
    "\n",
    "players = pd.DataFrame({\"Total Players\": [total_players]})\n",
    "players"
   ]
  },
  {
   "cell_type": "markdown",
   "metadata": {},
   "source": [
    "# Purchasing Analysis (Total) \n",
    "* Number of Unique Items \n",
    "* Average Purchase Price \n",
    "* Total Number of Purchases \n",
    "* Total Revenue "
   ]
  },
  {
   "cell_type": "code",
   "execution_count": 6,
   "metadata": {},
   "outputs": [
    {
     "data": {
      "text/html": [
       "<style  type=\"text/css\" >\n",
       "</style><table id=\"T_cd7142b6_ceba_11ea_b793_d0abd5be3484\" ><thead>    <tr>        <th class=\"blank level0\" ></th>        <th class=\"col_heading level0 col0\" >Number of Unique Items</th>        <th class=\"col_heading level0 col1\" >Average Purchase Price</th>        <th class=\"col_heading level0 col2\" >Total Number of Purchases</th>        <th class=\"col_heading level0 col3\" >Total Revenue</th>    </tr></thead><tbody>\n",
       "                <tr>\n",
       "                        <th id=\"T_cd7142b6_ceba_11ea_b793_d0abd5be3484level0_row0\" class=\"row_heading level0 row0\" >0</th>\n",
       "                        <td id=\"T_cd7142b6_ceba_11ea_b793_d0abd5be3484row0_col0\" class=\"data row0 col0\" >183</td>\n",
       "                        <td id=\"T_cd7142b6_ceba_11ea_b793_d0abd5be3484row0_col1\" class=\"data row0 col1\" >$3.05</td>\n",
       "                        <td id=\"T_cd7142b6_ceba_11ea_b793_d0abd5be3484row0_col2\" class=\"data row0 col2\" >780</td>\n",
       "                        <td id=\"T_cd7142b6_ceba_11ea_b793_d0abd5be3484row0_col3\" class=\"data row0 col3\" >$2,379.77</td>\n",
       "            </tr>\n",
       "    </tbody></table>"
      ],
      "text/plain": [
       "<pandas.io.formats.style.Styler at 0x1fa3b5f7608>"
      ]
     },
     "execution_count": 6,
     "metadata": {},
     "output_type": "execute_result"
    },
    {
     "data": {
      "application/javascript": [
       "\n",
       "            setTimeout(function() {\n",
       "                var nbb_cell_id = 6;\n",
       "                var nbb_unformatted_code = \"# Calculations for the bullets above\\nnum_unique_items = len((purchasefile_df[\\\"Item ID\\\"]).unique())\\navg_price = (purchasefile_df[\\\"Price\\\"]).mean()\\nnum_purchases = (purchasefile_df[\\\"Purchase ID\\\"]).count()\\ntotal_rev = (purchasefile_df[\\\"Price\\\"]).sum()\\n\\n# Create data frame\\ntable_df = pd.DataFrame(\\n    {\\n        \\\"Number of Unique Items\\\": [num_unique_items],\\n        \\\"Average Purchase Price\\\": [avg_price],\\n        \\\"Total Number of Purchases\\\": [num_purchases],\\n        \\\"Total Revenue\\\": [total_rev],\\n    }\\n)\\n\\n# Format currency style\\ntable_df.style.format(\\n    {\\\"Average Purchase Price\\\": \\\"${:,.2f}\\\", \\\"Total Revenue\\\": \\\"${:,.2f}\\\"}\\n)\";\n",
       "                var nbb_formatted_code = \"# Calculations for the bullets above\\nnum_unique_items = len((purchasefile_df[\\\"Item ID\\\"]).unique())\\navg_price = (purchasefile_df[\\\"Price\\\"]).mean()\\nnum_purchases = (purchasefile_df[\\\"Purchase ID\\\"]).count()\\ntotal_rev = (purchasefile_df[\\\"Price\\\"]).sum()\\n\\n# Create data frame\\ntable_df = pd.DataFrame(\\n    {\\n        \\\"Number of Unique Items\\\": [num_unique_items],\\n        \\\"Average Purchase Price\\\": [avg_price],\\n        \\\"Total Number of Purchases\\\": [num_purchases],\\n        \\\"Total Revenue\\\": [total_rev],\\n    }\\n)\\n\\n# Format currency style\\ntable_df.style.format(\\n    {\\\"Average Purchase Price\\\": \\\"${:,.2f}\\\", \\\"Total Revenue\\\": \\\"${:,.2f}\\\"}\\n)\";\n",
       "                var nbb_cells = Jupyter.notebook.get_cells();\n",
       "                for (var i = 0; i < nbb_cells.length; ++i) {\n",
       "                    if (nbb_cells[i].input_prompt_number == nbb_cell_id) {\n",
       "                        if (nbb_cells[i].get_text() == nbb_unformatted_code) {\n",
       "                             nbb_cells[i].set_text(nbb_formatted_code);\n",
       "                        }\n",
       "                        break;\n",
       "                    }\n",
       "                }\n",
       "            }, 500);\n",
       "            "
      ],
      "text/plain": [
       "<IPython.core.display.Javascript object>"
      ]
     },
     "metadata": {},
     "output_type": "display_data"
    }
   ],
   "source": [
    "# Calculations for the bullets above\n",
    "num_unique_items = len((purchasefile_df[\"Item ID\"]).unique())\n",
    "avg_price = (purchasefile_df[\"Price\"]).mean()\n",
    "num_purchases = (purchasefile_df[\"Purchase ID\"]).count()\n",
    "total_rev = (purchasefile_df[\"Price\"]).sum()\n",
    "\n",
    "# Create data frame\n",
    "table_df = pd.DataFrame(\n",
    "    {\n",
    "        \"Number of Unique Items\": [num_unique_items],\n",
    "        \"Average Purchase Price\": [avg_price],\n",
    "        \"Total Number of Purchases\": [num_purchases],\n",
    "        \"Total Revenue\": [total_rev],\n",
    "    }\n",
    ")\n",
    "\n",
    "# Format currency style\n",
    "table_df.style.format(\n",
    "    {\"Average Purchase Price\": \"${:,.2f}\", \"Total Revenue\": \"${:,.2f}\"}\n",
    ")"
   ]
  },
  {
   "cell_type": "markdown",
   "metadata": {},
   "source": [
    "# Gender Demographics \n",
    "* Percentage and Count of Male Players\n",
    "* Percentage and Count of Female Players \n",
    "* Percentage and Count of Other/Non-Disclosed "
   ]
  },
  {
   "cell_type": "code",
   "execution_count": 7,
   "metadata": {},
   "outputs": [
    {
     "data": {
      "text/html": [
       "<style  type=\"text/css\" >\n",
       "</style><table id=\"T_cd932328_ceba_11ea_b297_d0abd5be3484\" ><thead>    <tr>        <th class=\"blank level0\" ></th>        <th class=\"col_heading level0 col0\" >Percentage of Players</th>        <th class=\"col_heading level0 col1\" >Total Count</th>    </tr></thead><tbody>\n",
       "                <tr>\n",
       "                        <th id=\"T_cd932328_ceba_11ea_b297_d0abd5be3484level0_row0\" class=\"row_heading level0 row0\" >Male</th>\n",
       "                        <td id=\"T_cd932328_ceba_11ea_b297_d0abd5be3484row0_col0\" class=\"data row0 col0\" >62.05</td>\n",
       "                        <td id=\"T_cd932328_ceba_11ea_b297_d0abd5be3484row0_col1\" class=\"data row0 col1\" >484</td>\n",
       "            </tr>\n",
       "            <tr>\n",
       "                        <th id=\"T_cd932328_ceba_11ea_b297_d0abd5be3484level0_row1\" class=\"row_heading level0 row1\" >Female</th>\n",
       "                        <td id=\"T_cd932328_ceba_11ea_b297_d0abd5be3484row1_col0\" class=\"data row1 col0\" >10.38</td>\n",
       "                        <td id=\"T_cd932328_ceba_11ea_b297_d0abd5be3484row1_col1\" class=\"data row1 col1\" >81</td>\n",
       "            </tr>\n",
       "            <tr>\n",
       "                        <th id=\"T_cd932328_ceba_11ea_b297_d0abd5be3484level0_row2\" class=\"row_heading level0 row2\" >Other / Non-Disclosed</th>\n",
       "                        <td id=\"T_cd932328_ceba_11ea_b297_d0abd5be3484row2_col0\" class=\"data row2 col0\" >1.41</td>\n",
       "                        <td id=\"T_cd932328_ceba_11ea_b297_d0abd5be3484row2_col1\" class=\"data row2 col1\" >11</td>\n",
       "            </tr>\n",
       "    </tbody></table>"
      ],
      "text/plain": [
       "<pandas.io.formats.style.Styler at 0x1fa3be998c8>"
      ]
     },
     "execution_count": 7,
     "metadata": {},
     "output_type": "execute_result"
    },
    {
     "data": {
      "application/javascript": [
       "\n",
       "            setTimeout(function() {\n",
       "                var nbb_cell_id = 7;\n",
       "                var nbb_unformatted_code = \"# Group\\ngender_MF = purchasefile_df.groupby(\\\"Gender\\\")\\n\\n# Count of \\\"SN\\\" by gender\\ngender = gender_MF.nunique()[\\\"SN\\\"]\\n\\n# Calculations\\npercent_players = gender / total_players * 100\\n\\n# Data frame and format\\nmf_demo = pd.DataFrame(\\n    {\\\"Percentage of Players\\\": percent_players, \\\"Total Count\\\": gender}\\n)\\nmf_demo.index.name = None\\nmf_demo.sort_values([\\\"Total Count\\\"], ascending=False).style.format(\\n    {\\\"Percentage of Players\\\": \\\"{:.2f}\\\"}\\n)\";\n",
       "                var nbb_formatted_code = \"# Group\\ngender_MF = purchasefile_df.groupby(\\\"Gender\\\")\\n\\n# Count of \\\"SN\\\" by gender\\ngender = gender_MF.nunique()[\\\"SN\\\"]\\n\\n# Calculations\\npercent_players = gender / total_players * 100\\n\\n# Data frame and format\\nmf_demo = pd.DataFrame(\\n    {\\\"Percentage of Players\\\": percent_players, \\\"Total Count\\\": gender}\\n)\\nmf_demo.index.name = None\\nmf_demo.sort_values([\\\"Total Count\\\"], ascending=False).style.format(\\n    {\\\"Percentage of Players\\\": \\\"{:.2f}\\\"}\\n)\";\n",
       "                var nbb_cells = Jupyter.notebook.get_cells();\n",
       "                for (var i = 0; i < nbb_cells.length; ++i) {\n",
       "                    if (nbb_cells[i].input_prompt_number == nbb_cell_id) {\n",
       "                        if (nbb_cells[i].get_text() == nbb_unformatted_code) {\n",
       "                             nbb_cells[i].set_text(nbb_formatted_code);\n",
       "                        }\n",
       "                        break;\n",
       "                    }\n",
       "                }\n",
       "            }, 500);\n",
       "            "
      ],
      "text/plain": [
       "<IPython.core.display.Javascript object>"
      ]
     },
     "metadata": {},
     "output_type": "display_data"
    }
   ],
   "source": [
    "# Group\n",
    "gender_MF = purchasefile_df.groupby(\"Gender\")\n",
    "\n",
    "# Count of \"SN\" by gender\n",
    "gender = gender_MF.nunique()[\"SN\"]\n",
    "\n",
    "# Calculations\n",
    "percent_players = gender / total_players * 100\n",
    "\n",
    "# Data frame and format\n",
    "mf_demo = pd.DataFrame(\n",
    "    {\"Percentage of Players\": percent_players, \"Total Count\": gender}\n",
    ")\n",
    "mf_demo.index.name = None\n",
    "mf_demo.sort_values([\"Total Count\"], ascending=False).style.format(\n",
    "    {\"Percentage of Players\": \"{:.2f}\"}\n",
    ")"
   ]
  },
  {
   "cell_type": "markdown",
   "metadata": {},
   "source": [
    "# Purchase Analysis by Gender \n",
    "* Purchase Count \n",
    "* Average Purchase Price \n",
    "* Total Purchase Value \n",
    "* Average Purchase Total Per Person by Gender "
   ]
  },
  {
   "cell_type": "code",
   "execution_count": 14,
   "metadata": {},
   "outputs": [
    {
     "data": {
      "text/html": [
       "<style  type=\"text/css\" >\n",
       "</style><table id=\"T_6b8e332c_cec5_11ea_8c85_d0abd5be3484\" ><thead>    <tr>        <th class=\"blank level0\" ></th>        <th class=\"col_heading level0 col0\" >Purchase Count</th>        <th class=\"col_heading level0 col1\" >Average Purchase Price</th>        <th class=\"col_heading level0 col2\" >Total Purchase Value</th>        <th class=\"col_heading level0 col3\" >Avg Purchases Total Per Person by Gender</th>    </tr>    <tr>        <th class=\"index_name level0\" >Gender</th>        <th class=\"blank\" ></th>        <th class=\"blank\" ></th>        <th class=\"blank\" ></th>        <th class=\"blank\" ></th>    </tr></thead><tbody>\n",
       "                <tr>\n",
       "                        <th id=\"T_6b8e332c_cec5_11ea_8c85_d0abd5be3484level0_row0\" class=\"row_heading level0 row0\" >Female</th>\n",
       "                        <td id=\"T_6b8e332c_cec5_11ea_8c85_d0abd5be3484row0_col0\" class=\"data row0 col0\" >780</td>\n",
       "                        <td id=\"T_6b8e332c_cec5_11ea_8c85_d0abd5be3484row0_col1\" class=\"data row0 col1\" >$3.05</td>\n",
       "                        <td id=\"T_6b8e332c_cec5_11ea_8c85_d0abd5be3484row0_col2\" class=\"data row0 col2\" >$29.38</td>\n",
       "                        <td id=\"T_6b8e332c_cec5_11ea_8c85_d0abd5be3484row0_col3\" class=\"data row0 col3\" >2379.77</td>\n",
       "            </tr>\n",
       "            <tr>\n",
       "                        <th id=\"T_6b8e332c_cec5_11ea_8c85_d0abd5be3484level0_row1\" class=\"row_heading level0 row1\" >Male</th>\n",
       "                        <td id=\"T_6b8e332c_cec5_11ea_8c85_d0abd5be3484row1_col0\" class=\"data row1 col0\" >780</td>\n",
       "                        <td id=\"T_6b8e332c_cec5_11ea_8c85_d0abd5be3484row1_col1\" class=\"data row1 col1\" >$3.05</td>\n",
       "                        <td id=\"T_6b8e332c_cec5_11ea_8c85_d0abd5be3484row1_col2\" class=\"data row1 col2\" >$4.92</td>\n",
       "                        <td id=\"T_6b8e332c_cec5_11ea_8c85_d0abd5be3484row1_col3\" class=\"data row1 col3\" >2379.77</td>\n",
       "            </tr>\n",
       "            <tr>\n",
       "                        <th id=\"T_6b8e332c_cec5_11ea_8c85_d0abd5be3484level0_row2\" class=\"row_heading level0 row2\" >Other / Non-Disclosed</th>\n",
       "                        <td id=\"T_6b8e332c_cec5_11ea_8c85_d0abd5be3484row2_col0\" class=\"data row2 col0\" >780</td>\n",
       "                        <td id=\"T_6b8e332c_cec5_11ea_8c85_d0abd5be3484row2_col1\" class=\"data row2 col1\" >$3.05</td>\n",
       "                        <td id=\"T_6b8e332c_cec5_11ea_8c85_d0abd5be3484row2_col2\" class=\"data row2 col2\" >$216.34</td>\n",
       "                        <td id=\"T_6b8e332c_cec5_11ea_8c85_d0abd5be3484row2_col3\" class=\"data row2 col3\" >2379.77</td>\n",
       "            </tr>\n",
       "    </tbody></table>"
      ],
      "text/plain": [
       "<pandas.io.formats.style.Styler at 0x1fa3c08a308>"
      ]
     },
     "execution_count": 14,
     "metadata": {},
     "output_type": "execute_result"
    },
    {
     "data": {
      "application/javascript": [
       "\n",
       "            setTimeout(function() {\n",
       "                var nbb_cell_id = 14;\n",
       "                var nbb_unformatted_code = \"# Count of purchases by gender\\nnumof_purchases = purchasefile_df[\\\"Gender\\\"].count()\\n\\n# Average purchase price by gender\\navg_pprice = purchasefile_df[\\\"Price\\\"].mean()\\n\\n\\n# Purchase Price by gender\\npp_bygender = purchasefile_df[\\\"Price\\\"].sum()\\n\\n# Total Purchase Value\\nPurchase_value = pp_bygender / gender\\n\\n\\n# Data Frame\\ngender_demographics = pd.DataFrame(\\n    {\\n        \\\"Purchase Count\\\": numof_purchases,\\n        \\\"Average Purchase Price\\\": avg_pprice,\\n        \\\"Total Purchase Value\\\": Purchase_value,\\n        \\\"Avg Purchases Total Per Person by Gender\\\": pp_bygender,\\n    }\\n)\\n\\n# index as \\\"Gender\\\"\\ngender_demographics.index.name = \\\"Gender\\\"\\n\\n\\n# Currency style\\ngender_demographics.style.format(\\n    {\\n        \\\"Average Purchase Price\\\": \\\"${:,.2f}\\\",\\n        \\\"Total Purchase Value\\\": \\\"${:,.2f}\\\",\\n        \\\"Avg Purchase Total per Person by Gender\\\": \\\"${:,.2f}\\\",\\n    }\\n)\";\n",
       "                var nbb_formatted_code = \"# Count of purchases by gender\\nnumof_purchases = purchasefile_df[\\\"Gender\\\"].count()\\n\\n# Average purchase price by gender\\navg_pprice = purchasefile_df[\\\"Price\\\"].mean()\\n\\n\\n# Purchase Price by gender\\npp_bygender = purchasefile_df[\\\"Price\\\"].sum()\\n\\n# Total Purchase Value\\nPurchase_value = pp_bygender / gender\\n\\n\\n# Data Frame\\ngender_demographics = pd.DataFrame(\\n    {\\n        \\\"Purchase Count\\\": numof_purchases,\\n        \\\"Average Purchase Price\\\": avg_pprice,\\n        \\\"Total Purchase Value\\\": Purchase_value,\\n        \\\"Avg Purchases Total Per Person by Gender\\\": pp_bygender,\\n    }\\n)\\n\\n# index as \\\"Gender\\\"\\ngender_demographics.index.name = \\\"Gender\\\"\\n\\n\\n# Currency style\\ngender_demographics.style.format(\\n    {\\n        \\\"Average Purchase Price\\\": \\\"${:,.2f}\\\",\\n        \\\"Total Purchase Value\\\": \\\"${:,.2f}\\\",\\n        \\\"Avg Purchase Total per Person by Gender\\\": \\\"${:,.2f}\\\",\\n    }\\n)\";\n",
       "                var nbb_cells = Jupyter.notebook.get_cells();\n",
       "                for (var i = 0; i < nbb_cells.length; ++i) {\n",
       "                    if (nbb_cells[i].input_prompt_number == nbb_cell_id) {\n",
       "                        if (nbb_cells[i].get_text() == nbb_unformatted_code) {\n",
       "                             nbb_cells[i].set_text(nbb_formatted_code);\n",
       "                        }\n",
       "                        break;\n",
       "                    }\n",
       "                }\n",
       "            }, 500);\n",
       "            "
      ],
      "text/plain": [
       "<IPython.core.display.Javascript object>"
      ]
     },
     "metadata": {},
     "output_type": "display_data"
    }
   ],
   "source": [
    "# Count of purchases by gender\n",
    "numof_purchases = purchasefile_df[\"Gender\"].count()\n",
    "\n",
    "# Average purchase price by gender\n",
    "avg_pprice = purchasefile_df[\"Price\"].mean()\n",
    "\n",
    "\n",
    "# Purchase Price by gender\n",
    "pp_bygender = purchasefile_df[\"Price\"].sum()\n",
    "\n",
    "# Total Purchase Value\n",
    "Purchase_value = pp_bygender / gender\n",
    "\n",
    "\n",
    "# Data Frame\n",
    "gender_demographics = pd.DataFrame(\n",
    "    {\n",
    "        \"Purchase Count\": numof_purchases,\n",
    "        \"Average Purchase Price\": avg_pprice,\n",
    "        \"Total Purchase Value\": Purchase_value,\n",
    "        \"Avg Purchases Total Per Person by Gender\": pp_bygender,\n",
    "    }\n",
    ")\n",
    "\n",
    "# index as \"Gender\"\n",
    "gender_demographics.index.name = \"Gender\"\n",
    "\n",
    "\n",
    "# Currency style\n",
    "gender_demographics.style.format(\n",
    "    {\n",
    "        \"Average Purchase Price\": \"${:,.2f}\",\n",
    "        \"Total Purchase Value\": \"${:,.2f}\",\n",
    "        \"Avg Purchase Total per Person by Gender\": \"${:,.2f}\",\n",
    "    }\n",
    ")"
   ]
  },
  {
   "cell_type": "markdown",
   "metadata": {},
   "source": [
    "# Age Demographics \n",
    "Bin Breakdown \n",
    "* Purchase Count\n",
    "* Average Purchase Price \n",
    "* Total Purchase Value\n",
    "* Average Purchase Total Per Person by Age Group"
   ]
  },
  {
   "cell_type": "code",
   "execution_count": 18,
   "metadata": {},
   "outputs": [
    {
     "data": {
      "text/html": [
       "<style  type=\"text/css\" >\n",
       "</style><table id=\"T_02c730ba_cec7_11ea_b206_d0abd5be3484\" ><thead>    <tr>        <th class=\"blank level0\" ></th>        <th class=\"col_heading level0 col0\" >Percentage of Players</th>        <th class=\"col_heading level0 col1\" >Total Count</th>    </tr></thead><tbody>\n",
       "                <tr>\n",
       "                        <th id=\"T_02c730ba_cec7_11ea_b206_d0abd5be3484level0_row0\" class=\"row_heading level0 row0\" ><10</th>\n",
       "                        <td id=\"T_02c730ba_cec7_11ea_b206_d0abd5be3484row0_col0\" class=\"data row0 col0\" >2.18</td>\n",
       "                        <td id=\"T_02c730ba_cec7_11ea_b206_d0abd5be3484row0_col1\" class=\"data row0 col1\" >17</td>\n",
       "            </tr>\n",
       "            <tr>\n",
       "                        <th id=\"T_02c730ba_cec7_11ea_b206_d0abd5be3484level0_row1\" class=\"row_heading level0 row1\" >10-14</th>\n",
       "                        <td id=\"T_02c730ba_cec7_11ea_b206_d0abd5be3484row1_col0\" class=\"data row1 col0\" >2.82</td>\n",
       "                        <td id=\"T_02c730ba_cec7_11ea_b206_d0abd5be3484row1_col1\" class=\"data row1 col1\" >22</td>\n",
       "            </tr>\n",
       "            <tr>\n",
       "                        <th id=\"T_02c730ba_cec7_11ea_b206_d0abd5be3484level0_row2\" class=\"row_heading level0 row2\" >15-19</th>\n",
       "                        <td id=\"T_02c730ba_cec7_11ea_b206_d0abd5be3484row2_col0\" class=\"data row2 col0\" >13.72</td>\n",
       "                        <td id=\"T_02c730ba_cec7_11ea_b206_d0abd5be3484row2_col1\" class=\"data row2 col1\" >107</td>\n",
       "            </tr>\n",
       "            <tr>\n",
       "                        <th id=\"T_02c730ba_cec7_11ea_b206_d0abd5be3484level0_row3\" class=\"row_heading level0 row3\" >20-24</th>\n",
       "                        <td id=\"T_02c730ba_cec7_11ea_b206_d0abd5be3484row3_col0\" class=\"data row3 col0\" >33.08</td>\n",
       "                        <td id=\"T_02c730ba_cec7_11ea_b206_d0abd5be3484row3_col1\" class=\"data row3 col1\" >258</td>\n",
       "            </tr>\n",
       "            <tr>\n",
       "                        <th id=\"T_02c730ba_cec7_11ea_b206_d0abd5be3484level0_row4\" class=\"row_heading level0 row4\" >25-29</th>\n",
       "                        <td id=\"T_02c730ba_cec7_11ea_b206_d0abd5be3484row4_col0\" class=\"data row4 col0\" >9.87</td>\n",
       "                        <td id=\"T_02c730ba_cec7_11ea_b206_d0abd5be3484row4_col1\" class=\"data row4 col1\" >77</td>\n",
       "            </tr>\n",
       "            <tr>\n",
       "                        <th id=\"T_02c730ba_cec7_11ea_b206_d0abd5be3484level0_row5\" class=\"row_heading level0 row5\" >30-34</th>\n",
       "                        <td id=\"T_02c730ba_cec7_11ea_b206_d0abd5be3484row5_col0\" class=\"data row5 col0\" >6.67</td>\n",
       "                        <td id=\"T_02c730ba_cec7_11ea_b206_d0abd5be3484row5_col1\" class=\"data row5 col1\" >52</td>\n",
       "            </tr>\n",
       "            <tr>\n",
       "                        <th id=\"T_02c730ba_cec7_11ea_b206_d0abd5be3484level0_row6\" class=\"row_heading level0 row6\" >35-39</th>\n",
       "                        <td id=\"T_02c730ba_cec7_11ea_b206_d0abd5be3484row6_col0\" class=\"data row6 col0\" >3.97</td>\n",
       "                        <td id=\"T_02c730ba_cec7_11ea_b206_d0abd5be3484row6_col1\" class=\"data row6 col1\" >31</td>\n",
       "            </tr>\n",
       "            <tr>\n",
       "                        <th id=\"T_02c730ba_cec7_11ea_b206_d0abd5be3484level0_row7\" class=\"row_heading level0 row7\" >40+</th>\n",
       "                        <td id=\"T_02c730ba_cec7_11ea_b206_d0abd5be3484row7_col0\" class=\"data row7 col0\" >1.54</td>\n",
       "                        <td id=\"T_02c730ba_cec7_11ea_b206_d0abd5be3484row7_col1\" class=\"data row7 col1\" >12</td>\n",
       "            </tr>\n",
       "    </tbody></table>"
      ],
      "text/plain": [
       "<pandas.io.formats.style.Styler at 0x1fa3c08f448>"
      ]
     },
     "execution_count": 18,
     "metadata": {},
     "output_type": "execute_result"
    },
    {
     "data": {
      "application/javascript": [
       "\n",
       "            setTimeout(function() {\n",
       "                var nbb_cell_id = 18;\n",
       "                var nbb_unformatted_code = \"# Establish bins for ages\\nage_bin = [0, 9.90, 14.90, 19.90, 24.90, 29.90, 34.90, 39.90, 99999]\\ngrp_name = [\\\"<10\\\", \\\"10-14\\\", \\\"15-19\\\", \\\"20-24\\\", \\\"25-29\\\", \\\"30-34\\\", \\\"35-39\\\", \\\"40+\\\"]\\n\\n# sort age values by bin\\npurchasefile_df[\\\"Age Group\\\"] = pd.cut(purchasefile_df[\\\"Age\\\"],age_bin, labels= grp_name)\\npurchasefile_df\\n\\n# new data frame with age\\nage_grouped = purchasefile_df.groupby(\\\"Age Group\\\")\\n\\n# total players by age category\\ntotal_age = age_grouped[\\\"SN\\\"].nunique()\\n\\n# Calculations \\npercent_byage = (total_age/total_players) * 100\\n\\n# Data frame \\nage_demographics = pd.DataFrame({\\\"Percentage of Players\\\": percent_byage, \\\"Total Count\\\": total_age})\\n\\nage_demographics.index.name = None\\n\\nage_demographics.style.format({\\\"Percentage of Players\\\":\\\"{:,.2f}\\\"})\";\n",
       "                var nbb_formatted_code = \"# Establish bins for ages\\nage_bin = [0, 9.90, 14.90, 19.90, 24.90, 29.90, 34.90, 39.90, 99999]\\ngrp_name = [\\\"<10\\\", \\\"10-14\\\", \\\"15-19\\\", \\\"20-24\\\", \\\"25-29\\\", \\\"30-34\\\", \\\"35-39\\\", \\\"40+\\\"]\\n\\n# sort age values by bin\\npurchasefile_df[\\\"Age Group\\\"] = pd.cut(purchasefile_df[\\\"Age\\\"], age_bin, labels=grp_name)\\npurchasefile_df\\n\\n# new data frame with age\\nage_grouped = purchasefile_df.groupby(\\\"Age Group\\\")\\n\\n# total players by age category\\ntotal_age = age_grouped[\\\"SN\\\"].nunique()\\n\\n# Calculations\\npercent_byage = (total_age / total_players) * 100\\n\\n# Data frame\\nage_demographics = pd.DataFrame(\\n    {\\\"Percentage of Players\\\": percent_byage, \\\"Total Count\\\": total_age}\\n)\\n\\nage_demographics.index.name = None\\n\\nage_demographics.style.format({\\\"Percentage of Players\\\": \\\"{:,.2f}\\\"})\";\n",
       "                var nbb_cells = Jupyter.notebook.get_cells();\n",
       "                for (var i = 0; i < nbb_cells.length; ++i) {\n",
       "                    if (nbb_cells[i].input_prompt_number == nbb_cell_id) {\n",
       "                        if (nbb_cells[i].get_text() == nbb_unformatted_code) {\n",
       "                             nbb_cells[i].set_text(nbb_formatted_code);\n",
       "                        }\n",
       "                        break;\n",
       "                    }\n",
       "                }\n",
       "            }, 500);\n",
       "            "
      ],
      "text/plain": [
       "<IPython.core.display.Javascript object>"
      ]
     },
     "metadata": {},
     "output_type": "display_data"
    }
   ],
   "source": [
    "# Establish bins for ages\n",
    "age_bin = [0, 9.90, 14.90, 19.90, 24.90, 29.90, 34.90, 39.90, 99999]\n",
    "grp_name = [\"<10\", \"10-14\", \"15-19\", \"20-24\", \"25-29\", \"30-34\", \"35-39\", \"40+\"]\n",
    "\n",
    "# sort age values by bin\n",
    "purchasefile_df[\"Age Group\"] = pd.cut(purchasefile_df[\"Age\"],age_bin, labels= grp_name)\n",
    "purchasefile_df\n",
    "\n",
    "# new data frame with age\n",
    "age_grouped = purchasefile_df.groupby(\"Age Group\")\n",
    "\n",
    "# total players by age category\n",
    "total_age = age_grouped[\"SN\"].nunique()\n",
    "\n",
    "# Calculations \n",
    "percent_byage = (total_age/total_players) * 100\n",
    "\n",
    "# Data frame \n",
    "age_demographics = pd.DataFrame({\"Percentage of Players\": percent_byage, \"Total Count\": total_age})\n",
    "\n",
    "age_demographics.index.name = None\n",
    "\n",
    "age_demographics.style.format({\"Percentage of Players\":\"{:,.2f}\"})\n"
   ]
  },
  {
   "cell_type": "markdown",
   "metadata": {},
   "source": [
    "# Top Spenders \n",
    "Top 5 spenders in the game by total purchase value\n",
    "* SN \n",
    "* Purchase Count \n",
    "* Average Purchase Price \n",
    "* Total Purchase Value "
   ]
  },
  {
   "cell_type": "code",
   "execution_count": null,
   "metadata": {},
   "outputs": [],
   "source": []
  },
  {
   "cell_type": "markdown",
   "metadata": {},
   "source": [
    "# Most Popular Items\n",
    "5 Most popular items by purchase count \n",
    "* Item ID \n",
    "* Item Name \n",
    "* Purchase Count \n",
    "* Item Price \n",
    "* Total Purchase Value "
   ]
  },
  {
   "cell_type": "code",
   "execution_count": null,
   "metadata": {},
   "outputs": [],
   "source": []
  },
  {
   "cell_type": "markdown",
   "metadata": {},
   "source": [
    "# Most Profitable Items \n",
    "* Item ID \n",
    "* Item Name \n",
    "* Purchase Count \n",
    "* Item Price \n",
    "* Total Purchase Value "
   ]
  },
  {
   "cell_type": "code",
   "execution_count": null,
   "metadata": {},
   "outputs": [],
   "source": []
  }
 ],
 "metadata": {
  "kernelspec": {
   "display_name": "Python 3",
   "language": "python",
   "name": "python3"
  },
  "language_info": {
   "codemirror_mode": {
    "name": "ipython",
    "version": 3
   },
   "file_extension": ".py",
   "mimetype": "text/x-python",
   "name": "python",
   "nbconvert_exporter": "python",
   "pygments_lexer": "ipython3",
   "version": "3.7.4"
  }
 },
 "nbformat": 4,
 "nbformat_minor": 2
}
